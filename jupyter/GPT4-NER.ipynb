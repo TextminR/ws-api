{
 "cells": [
  {
   "cell_type": "code",
   "execution_count": 3,
   "id": "2fe0e4dd-6683-4e5b-847d-949e89a9a325",
   "metadata": {},
   "outputs": [],
   "source": [
    "import json\n",
    "import re\n",
    "\n",
    "def extract_year(date_str):\n",
    "    match = re.search(r'\\b\\d{4}\\b', date_str)\n",
    "    return match.group(0) if match else None\n",
    "\n",
    "input_file_path = 'train.jsonl'\n",
    "output_file_path = 'trainM.jsonl'\n",
    "\n",
    "with open(input_file_path, 'r') as input_file, open(output_file_path, 'w') as output_file:\n",
    "    for line in input_file:\n",
    "        data = json.loads(line)\n",
    "\n",
    "        # Check if 'response' key is in the dictionary and parse it\n",
    "        if 'response' in data:\n",
    "            response_data = json.loads(data['response'])\n",
    "\n",
    "            # Check if 'date' key is in the parsed response\n",
    "            if 'date' in response_data:\n",
    "                year = extract_year(response_data['date'])\n",
    "                if year:\n",
    "                    response_data['date'] = year\n",
    "\n",
    "            # Update the original 'response' field with modified data\n",
    "            data['response'] = json.dumps(response_data)\n",
    "\n",
    "        output_file.write(json.dumps(data) + '\\n')\n"
   ]
  },
  {
   "cell_type": "code",
   "execution_count": null,
   "id": "5b33a65f-9e4b-4805-921c-78fc853b2599",
   "metadata": {},
   "outputs": [],
   "source": []
  }
 ],
 "metadata": {
  "kernelspec": {
   "display_name": "Python 3 (ipykernel)",
   "language": "python",
   "name": "python3"
  },
  "language_info": {
   "codemirror_mode": {
    "name": "ipython",
    "version": 3
   },
   "file_extension": ".py",
   "mimetype": "text/x-python",
   "name": "python",
   "nbconvert_exporter": "python",
   "pygments_lexer": "ipython3",
   "version": "3.10.12"
  }
 },
 "nbformat": 4,
 "nbformat_minor": 5
}
