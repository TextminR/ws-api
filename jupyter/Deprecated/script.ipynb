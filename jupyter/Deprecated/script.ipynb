{
 "cells": [
  {
   "cell_type": "code",
   "execution_count": 1,
   "id": "acf12340-8e87-4a86-9bd8-00bb243d25db",
   "metadata": {},
   "outputs": [
    {
     "name": "stdout",
     "output_type": "stream",
     "text": [
      "Defaulting to user installation because normal site-packages is not writeable\n",
      "Requirement already satisfied: pandas in /home/ben/.local/lib/python3.10/site-packages (1.3.5)\n",
      "Requirement already satisfied: pytz>=2017.3 in /home/ben/.local/lib/python3.10/site-packages (from pandas) (2023.3.post1)\n",
      "Requirement already satisfied: numpy>=1.21.0 in /home/ben/.local/lib/python3.10/site-packages (from pandas) (1.22.0)\n",
      "Requirement already satisfied: python-dateutil>=2.7.3 in /home/ben/.local/lib/python3.10/site-packages (from pandas) (2.8.2)\n",
      "Requirement already satisfied: six>=1.5 in /usr/lib/python3/dist-packages (from python-dateutil>=2.7.3->pandas) (1.16.0)\n"
     ]
    }
   ],
   "source": [
    "# You only need to run this once per machine\n",
    "!pip install pandas\n",
    "!pip install -q -U bitsandbytes\n",
    "!pip install -q -U git+https://github.com/huggingface/transformers.git\n",
    "!pip install -q -U git+https://github.com/huggingface/peft.git\n",
    "!pip install -q -U git+https://github.com/huggingface/accelerate.git\n",
    "!pip install -q -U datasets scipy ipywidgets matplotlib"
   ]
  },
  {
   "cell_type": "code",
   "execution_count": 2,
   "id": "3e50e7a4-f597-4308-a311-abe7fa206ecf",
   "metadata": {},
   "outputs": [],
   "source": [
    "prev_examples = ['prompt\\n-----------\\nThis book was written by George Orwell in 1949.\\n-----------\\n\\nresponse\\n-----------\\n{\\n  \"author\": \"George Orwell\",\\n  \"date\": \"1949\"\\n}\\n-----------', 'prompt\\n-----------\\nIm Jahr 1818 veröffentlichte Mary Shelley ihren Roman \"Frankenstein\".\\n-----------\\n\\nresponse\\n-----------\\n{\\n  \"author\": \"Mary Shelley\",\\n  \"date\": \"1818\"\\n}\\n-----------', 'prompt\\n-----------\\nIn a letter dated May 10, 1933, Albert Einstein wrote to his friend about his latest discoveries.\\n-----------\\n\\nresponse\\n-----------\\n{\\n  \"author\": \"Albert Einstein\",\\n  \"date\": \"May 10, 1933\"\\n}\\n-----------', 'prompt\\n-----------\\nIm Jahr 1920 veröffentlichte Franz Kafka \"Das Schloss\", eines seiner bekanntesten Werke.\\n-----------\\n\\nresponse\\n-----------\\n{\\n  \"author\": \"Franz Kafka\",\\n  \"date\": \"1920\"\\n}\\n-----------', 'prompt\\n-----------\\nThe famous novel \"To Kill a Mockingbird\" was published by Harper Lee on July 11, 1960.\\n-----------\\n\\nresponse\\n-----------\\n{\\n  \"author\": \"Harper Lee\",\\n  \"date\": \"July 11, 1960\"\\n}\\n-----------', 'prompt\\n-----------\\nAm 28. September 1909 wurde Thomas Manns Roman \"Buddenbrooks\" veröffentlicht.\\n-----------\\n\\nresponse\\n-----------\\n{\\n  \"author\": \"Thomas Mann\",\\n  \"date\": \"28. September 1909\"\\n}\\n-----------', 'prompt\\n-----------\\nOn September 1, 1851, Herman Melville published his masterpiece, \"Moby-Dick\".\\n-----------\\n\\nresponse\\n-----------\\n{\\n  \"author\": \"Herman Melville\",\\n  \"date\": \"September 1, 1851\"\\n}\\n-----------', 'prompt\\n-----------\\nIm Jahr 1774 veröffentlichte Johann Wolfgang von Goethe seinen Roman \"Die Leiden des jungen Werthers\".\\n-----------\\n\\nresponse\\n-----------\\n{\\n  \"author\": \"Johann Wolfgang von Goethe\",\\n  \"date\": \"1774\"\\n}\\n-----------', 'prompt\\n-----------\\nThe first edition of \"Pride and Prejudice\" by Jane Austen was published on January 28, 1813.\\n-----------\\n\\nresponse\\n-----------\\n{\\n  \"author\": \"Jane Austen\",\\n  \"date\": \"January 28, 1813\"\\n}\\n-----------', 'prompt\\n-----------\\nAm 24. Februar 1920 wurde Adolf Hitlers Buch \"Mein Kampf\" veröffentlicht.\\n-----------\\n\\nresponse\\n-----------\\n{\\n  \"author\": \"Adolf Hitler\",\\n  \"date\": \"24. Februar 1920\"\\n}\\n-----------', 'prompt\\n-----------\\nOn April 14, 1939, John Steinbeck published his novel \"The Grapes of Wrath\".\\n-----------\\n\\nresponse\\n-----------\\n{\\n  \"author\": \"John Steinbeck\",\\n  \"date\": \"April 14, 1939\"\\n}\\n-----------', 'prompt\\n-----------\\nIn 1949, George Orwell released his dystopian novel \"1984\".\\n-----------\\n\\nresponse\\n-----------\\n{\\n  \"author\": \"George Orwell\",\\n  \"date\": \"1949\"\\n}\\n-----------', 'prompt\\n-----------\\nAm 10. November 1782 veröffentlichte Wolfgang Amadeus Mozart seine Sonate Nr. 16.\\n-----------\\n\\nresponse\\n-----------\\n{\\n  \"author\": \"Wolfgang Amadeus Mozart\",\\n  \"date\": \"10. November 1782\"\\n}\\n-----------', 'prompt\\n-----------\\nAm 10. Dezember 1865 wurde Lewis Carrolls \"Alice im Wunderland\" veröffentlicht.\\n-----------\\n\\nresponse\\n-----------\\n{\\n  \"author\": \"Lewis Carroll\",\\n  \"date\": \"10. Dezember 1865\"\\n}\\n-----------', 'prompt\\n-----------\\nThe book \"1984\" was written by George Orwell in 1949.\\n-----------\\nresponse\\n-----------\\n{\\n  \"author\": \"George Orwell\",\\n  \"date\": \"1949\"\\n}\\n-----------', 'prompt\\n-----------\\nIn 1922, T.S. Eliot published his famous poem \"The Waste Land\".\\n-----------\\nresponse\\n-----------\\n{\\n  \"author\": \"T.S. Eliot\",\\n  \"date\": \"1922\"\\n}\\n-----------', 'prompt\\n-----------\\n\"Die Verwandlung\" ist eine Novelle von Franz Kafka, die im Jahr 1915 veröffentlicht wurde.\\n-----------\\nresponse\\n-----------\\n{\\n  \"author\": \"Franz Kafka\",\\n  \"date\": \"1915\"\\n}\\n-----------', 'prompt\\n-----------\\nIm Jahr 1818 veröffentlichte Mary Shelley ihren Roman \"Frankenstein\".\\n-----------\\nresponse\\n-----------\\n{\\n  \"author\": \"Mary Shelley\",\\n  \"date\": \"1818\"\\n}\\n-----------', 'prompt\\n-----------\\n\"Animal Farm\" is a novel by George Orwell, published in 1945.\\n-----------\\nresponse\\n-----------\\n{\\n  \"author\": \"George Orwell\",\\n  \"date\": \"1945\"\\n}\\n-----------', 'prompt\\n-----------\\nErnest Hemingway wrote \"The Old Man and the Sea\" in 1952.\\n-----------\\nresponse\\n-----------\\n{\\n  \"author\": \"Ernest Hemingway\",\\n  \"date\": \"1952\"\\n}\\n-----------', 'prompt\\n-----------\\n\"Faust\" ist ein Drama von Johann Wolfgang von Goethe, das im Jahr 1808 veröffentlicht wurde.\\n-----------\\nresponse\\n-----------\\n{\\n  \"author\": \"Johann Wolfgang von Goethe\",\\n  \"date\": \"1808\"\\n}\\n-----------', 'prompt\\n-----------\\nIn 1851, Herman Melville published his novel \"Moby-Dick\".\\n-----------\\nresponse\\n-----------\\n{\\n  \"author\": \"Herman Melville\",\\n  \"date\": \"1851\"\\n}\\n-----------', 'prompt\\n-----------\\n\"Die Leiden des jungen Werthers\" ist ein Roman von Johann Wolfgang von Goethe, der im Jahr 1774 veröffentlicht wurde.\\n-----------\\nresponse\\n-----------\\n{\\n  \"author\": \"Johann Wolfgang von Goethe\",\\n  \"date\": \"1774\"\\n}\\n-----------', 'prompt\\n-----------\\nIn 1960, Harper Lee published her novel \"To Kill a Mockingbird\".\\n-----------\\nresponse\\n-----------\\n{\\n  \"author\": \"Harper Lee\",\\n  \"date\": \"1960\"\\n}\\n-----------', 'prompt\\n-----------\\n\"Der Prozess\" ist ein Roman von Franz Kafka, der posthum im Jahr 1925 veröffentlicht wurde.\\n-----------\\nresponse\\n-----------\\n{\\n  \"author\": \"Franz Kafka\",\\n  \"date\": \"1925\"\\n}\\n-----------', 'prompt\\n-----------\\nThis is a text written by John Doe on 12th March 2021.\\n-----------\\n\\nresponse\\n-----------\\n{\\n  \"author\": \"John Doe\",\\n  \"date\": \"12th March 2021\"\\n}\\n-----------', 'prompt\\n-----------\\nAm 15. April 2020 wurde dieser Text von Maria Schmidt verfasst.\\n-----------\\n\\nresponse\\n-----------\\n{\\n  \"author\": \"Maria Schmidt\",\\n  \"date\": \"15. April 2020\"\\n}\\n-----------', 'prompt\\n-----------\\nOn 1st January 2022, a text was written by Emily Johnson.\\n-----------\\n\\nresponse\\n-----------\\n{\\n  \"author\": \"Emily Johnson\",\\n  \"date\": \"1st January 2022\"\\n}\\n-----------', 'prompt\\n-----------\\nDieser Text wurde von Thomas Müller am 24. Dezember 2019 geschrieben.\\n-----------\\n\\nresponse\\n-----------\\n{\\n  \"author\": \"Thomas Müller\",\\n  \"date\": \"24. Dezember 2019\"\\n}\\n-----------', 'prompt\\n-----------\\nThe author of this text is Sarah Brown and it was written on 30th June 2021.\\n-----------\\n\\nresponse\\n-----------\\n{\\n  \"author\": \"Sarah Brown\",\\n  \"date\": \"30th June 2021\"\\n}\\n-----------', 'prompt\\n-----------\\nAm 5. Mai 2018 hat Anna Schneider diesen Text verfasst.\\n-----------\\n\\nresponse\\n-----------\\n{\\n  \"author\": \"Anna Schneider\",\\n  \"date\": \"5. Mai 2018\"\\n}\\n-----------', 'prompt\\n-----------\\nThis text was written by Robert Smith on the 4th of July, 2020.\\n-----------\\n\\nresponse\\n-----------\\n{\\n  \"author\": \"Robert Smith\",\\n  \"date\": \"4th of July, 2020\"\\n}\\n-----------', 'prompt\\n-----------\\nDieser Text wurde von Julia Fischer am 31. Oktober 2017 verfasst.\\n-----------\\n\\nresponse\\n-----------\\n{\\n  \"author\": \"Julia Fischer\",\\n  \"date\": \"31. Oktober 2017\"\\n}\\n-----------', 'prompt\\n-----------\\nOn 29th February 2020, this text was authored by Michael Davis.\\n-----------\\n\\nresponse\\n-----------\\n{\\n  \"author\": \"Michael Davis\",\\n  \"date\": \"29th February 2020\"\\n}\\n-----------', 'prompt\\n-----------\\nAm 14. Februar 2019 wurde dieser Text von Daniel Meyer geschrieben.\\n-----------\\n\\nresponse\\n-----------\\n{\\n  \"author\": \"Daniel Meyer\",\\n  \"date\": \"14. Februar 2019\"\\n}\\n-----------', 'prompt\\n-----------\\nThis text, written by Lisa Taylor, was published on 10th October 2021.\\n-----------\\n\\nresponse\\n-----------\\n{\\n  \"author\": \"Lisa Taylor\",\\n  \"date\": \"10th October 2021\"\\n}\\n-----------', 'prompt\\n-----------\\nAm 2. Februar 2019 hat David Becker diesen Text geschrieben.\\n-----------\\n\\nresponse\\n-----------\\n{\\n  \"author\": \"David Becker\",\\n  \"date\": \"2. Februar 2019\"\\n}\\n-----------', 'prompt\\n-----------\\nAm 11. November 2018 wurde dieser Text von Anna Schneider verfasst.\\n-----------\\n\\nresponse\\n-----------\\n{\\n  \"author\": \"Anna Schneider\",\\n  \"date\": \"11. November 2018\"\\n}\\n-----------', 'prompt\\n-----------\\nOn 1st January 2022, this text was authored by Richard Johnson.\\n-----------\\n\\nresponse\\n-----------\\n{\\n  \"author\": \"Richard Johnson\",\\n  \"date\": \"1st January 2022\"\\n}\\n-----------', 'prompt\\n-----------\\nDieser Text wurde von Maria Schmidt am 15. August 2020 verfasst.\\n-----------\\n\\nresponse\\n-----------\\n{\\n  \"author\": \"Maria Schmidt\",\\n  \"date\": \"15. August 2020\"\\n}\\n-----------', 'prompt\\n-----------\\nDieser Text wurde von Thomas Müller am 25. Dezember 2019 verfasst.\\n-----------\\n\\nresponse\\n-----------\\n{\\n  \"author\": \"Thomas Müller\",\\n  \"date\": \"25. Dezember 2019\"\\n}\\n-----------', 'prompt\\n-----------\\nThis text was written by John Doe on 12th of March, 2020.\\n-----------\\n\\nresponse\\n-----------\\n{\\n  \"author\": \"John Doe\",\\n  \"date\": \"12th of March, 2020\"\\n}\\n-----------', 'prompt\\n-----------\\nAm 25. Dezember 1999 schrieb Angela Merkel diesen Text.\\n-----------\\n\\nresponse\\n-----------\\n{\\n  \"author\": \"Angela Merkel\",\\n  \"date\": \"25. Dezember 1999\"\\n}\\n-----------', 'prompt\\n-----------\\nOn the 5th of July, 2005, a document was drafted by Albert Einstein.\\n-----------\\n\\nresponse\\n-----------\\n{\\n  \"author\": \"Albert Einstein\",\\n  \"date\": \"5th of July, 2005\"\\n}\\n-----------', 'prompt\\n-----------\\nDieser Artikel wurde von Johann Wolfgang von Goethe am 22. April 1782 verfasst.\\n-----------\\n\\nresponse\\n-----------\\n{\\n  \"author\": \"Johann Wolfgang von Goethe\",\\n  \"date\": \"22. April 1782\"\\n}\\n-----------', 'prompt\\n-----------\\nThe book \"The Great Gatsby\" was written by F. Scott Fitzgerald and published on April 10, 1925.\\n-----------\\n\\nresponse\\n-----------\\n{\\n  \"author\": \"F. Scott Fitzgerald\",\\n  \"date\": \"April 10, 1925\"\\n}\\n-----------', 'prompt\\n-----------\\nAm 15. August 1947 veröffentlichte Mahatma Gandhi einen Brief.\\n-----------\\n\\nresponse\\n-----------\\n{\\n  \"author\": \"Mahatma Gandhi\",\\n  \"date\": \"15. August 1947\"\\n}\\n-----------', 'prompt\\n-----------\\nThe article titled \"The Theory of Relativity\" was written by Albert Einstein and published on November 25, 1915.\\n-----------\\n\\nresponse\\n-----------\\n{\\n  \"author\": \"Albert Einstein\",\\n  \"date\": \"November 25, 1915\"\\n}\\n-----------', 'prompt\\n-----------\\nDieser Bericht wurde von Angela Merkel am 3. Oktober 2000 verfasst.\\n-----------\\n\\nresponse\\n-----------\\n{\\n  \"author\": \"Angela Merkel\",\\n  \"date\": \"3. Oktober 2000\"\\n}\\n-----------', 'prompt\\n-----------\\nOn the 30th of September, 2010, a research paper was published by Stephen Hawking.\\n-----------\\n\\nresponse\\n-----------\\n{\\n  \"author\": \"Stephen Hawking\",\\n  \"date\": \"30th of September, 2010\"\\n}\\n-----------', 'prompt\\n-----------\\nAm 1. Januar 2001 schrieb Thomas Mann diesen Roman.\\n-----------\\n\\nresponse\\n-----------\\n{\\n  \"author\": \"Thomas Mann\",\\n  \"date\": \"1. Januar 2001\"\\n}\\n-----------', 'prompt\\n-----------\\nThe poem \"The Raven\" was written by Edgar Allan Poe and published on January 29, 1845.\\n-----------\\n\\nresponse\\n-----------\\n{\\n  \"author\": \"Edgar Allan Poe\",\\n  \"date\": \"January 29, 1845\"\\n}\\n-----------', 'prompt\\n-----------\\nOn the 21st of June, 1987, a novel was published by J.K. Rowling.\\n-----------\\n\\nresponse\\n-----------\\n{\\n  \"author\": \"J.K. Rowling\",\\n  \"date\": \"21st of June, 1987\"\\n}\\n-----------', 'prompt\\n-----------\\nThe scientific paper titled \"Quantum Mechanics\" was written by Max Planck and published on December 14, 1900.\\n-----------\\n\\nresponse\\n-----------\\n{\\n  \"author\": \"Max Planck\",\\n  \"date\": \"December 14, 1900\"\\n}\\n-----------', 'prompt\\n-----------\\nAm 3. März 2003 veröffentlichte Stephen King diesen Roman.\\n-----------\\n\\nresponse\\n-----------\\n{\\n  \"author\": \"Stephen King\",\\n  \"date\": \"3. März 2003\"\\n}\\n-----------', 'prompt\\n-----------\\nThis article was written by Charles Dickens on the 30th of June, 1865.\\n-----------\\n\\nresponse\\n-----------\\n{\\n  \"author\": \"Charles Dickens\",\\n  \"date\": \"30th of June, 1865\"\\n}\\n-----------', 'prompt\\n-----------\\nThe book \"To Kill a Mockingbird\" was written by Harper Lee and published on July 11, 1960.\\n-----------\\n\\nresponse\\n-----------\\n{\\n  \"author\": \"Harper Lee\",\\n  \"date\": \"July 11, 1960\"\\n}\\n-----------', 'prompt\\n-----------\\nThis text was written by John Doe on 12th of March, 2020.\\n-----------\\n\\nresponse\\n-----------\\n{\\n  \"author\": \"John Doe\",\\n  \"date\": \"12th of March, 2020\"\\n}\\n-----------', 'prompt\\n-----------\\nAm 25. Dezember 1999 schrieb Angela Merkel diesen Text.\\n-----------\\n\\nresponse\\n-----------\\n{\\n  \"author\": \"Angela Merkel\",\\n  \"date\": \"25. Dezember 1999\"\\n}\\n-----------', 'prompt\\n-----------\\nOn the 5th of July, 2005, a document was drafted by Albert Einstein.\\n-----------\\n\\nresponse\\n-----------\\n{\\n  \"author\": \"Albert Einstein\",\\n  \"date\": \"5th of July, 2005\"\\n}\\n-----------', 'prompt\\n-----------\\nDieser Artikel wurde von Johann Wolfgang von Goethe am 22. April 1782 verfasst.\\n-----------\\n\\nresponse\\n-----------\\n{\\n  \"author\": \"Johann Wolfgang von Goethe\",\\n  \"date\": \"22. April 1782\"\\n}\\n-----------', 'prompt\\n-----------\\nThe book \"The Great Gatsby\" was written by F. Scott Fitzgerald and published on April 10, 1925.\\n-----------\\n\\nresponse\\n-----------\\n{\\n  \"author\": \"F. Scott Fitzgerald\",\\n  \"date\": \"April 10, 1925\"\\n}\\n-----------', 'prompt\\n-----------\\nAm 15. August 1947 veröffentlichte Mahatma Gandhi einen Brief.\\n-----------\\n\\nresponse\\n-----------\\n{\\n  \"author\": \"Mahatma Gandhi\",\\n  \"date\": \"15. August 1947\"\\n}\\n-----------', 'prompt\\n-----------\\nThe article titled \"The Theory of Relativity\" was written by Albert Einstein and published on November 25, 1915.\\n-----------\\n\\nresponse\\n-----------\\n{\\n  \"author\": \"Albert Einstein\",\\n  \"date\": \"November 25, 1915\"\\n}\\n-----------', 'prompt\\n-----------\\nDieser Bericht wurde von Angela Merkel am 3. Oktober 2000 verfasst.\\n-----------\\n\\nresponse\\n-----------\\n{\\n  \"author\": \"Angela Merkel\",\\n  \"date\": \"3. Oktober 2000\"\\n}\\n-----------', 'prompt\\n-----------\\nOn the 30th of September, 2010, a research paper was published by Stephen Hawking.\\n-----------\\n\\nresponse\\n-----------\\n{\\n  \"author\": \"Stephen Hawking\",\\n  \"date\": \"30th of September, 2010\"\\n}\\n-----------', 'prompt\\n-----------\\nAm 1. Januar 2001 schrieb Thomas Mann diesen Roman.\\n-----------\\n\\nresponse\\n-----------\\n{\\n  \"author\": \"Thomas Mann\",\\n  \"date\": \"1. Januar 2001\"\\n}\\n-----------', 'prompt\\n-----------\\nThe poem \"The Raven\" was written by Edgar Allan Poe and published on January 29, 1845.\\n-----------\\n\\nresponse\\n-----------\\n{\\n  \"author\": \"Edgar Allan Poe\",\\n  \"date\": \"January 29, 1845\"\\n}\\n-----------', 'prompt\\n-----------\\nOn the 21st of June, 1987, a novel was published by J.K. Rowling.\\n-----------\\n\\nresponse\\n-----------\\n{\\n  \"author\": \"J.K. Rowling\",\\n  \"date\": \"21st of June, 1987\"\\n}\\n-----------', 'prompt\\n-----------\\nThe scientific paper titled \"Quantum Mechanics\" was written by Max Planck and published on December 14, 1900.\\n-----------\\n\\nresponse\\n-----------\\n{\\n  \"author\": \"Max Planck\",\\n  \"date\": \"December 14, 1900\"\\n}\\n-----------', 'prompt\\n-----------\\nAm 3. März 2003 veröffentlichte Stephen King diesen Roman.\\n-----------\\n\\nresponse\\n-----------\\n{\\n  \"author\": \"Stephen King\",\\n  \"date\": \"3. März 2003\"\\n}\\n-----------', 'prompt\\n-----------\\nThis article was written by Charles Dickens on the 30th of June, 1865.\\n-----------\\n\\nresponse\\n-----------\\n{\\n  \"author\": \"Charles Dickens\",\\n  \"date\": \"30th of June, 1865\"\\n}\\n-----------', 'prompt\\n-----------\\nThe book \"To Kill a Mockingbird\" was written by Harper Lee and published on July 11, 1960.\\n-----------\\n\\nresponse\\n-----------\\n{\\n  \"author\": \"Harper Lee\",\\n  \"date\": \"July 11, 1960\"\\n}\\n-----------', 'prompt\\n-----------\\nOn the 15th of August, 1947, a declaration was made by Jawaharlal Nehru.\\n-----------\\n\\nresponse\\n-----------\\n{\\n  \"author\": \"Jawaharlal Nehru\",\\n  \"date\": \"15th of August, 1947\"\\n}\\n-----------', 'prompt\\n-----------\\nAm 10. Oktober 2000 veröffentlichte J.K. Rowling diesen Roman.\\n-----------\\n\\nresponse\\n-----------\\n{\\n  \"author\": \"J.K. Rowling\",\\n  \"date\": \"10. Oktober 2000\"\\n}\\n-----------', 'prompt\\n-----------\\nThe book \"1984\" was written by George Orwell and published on June 8, 1949.\\n-----------\\n\\nresponse\\n-----------\\n{\\n  \"author\": \"George Orwell\",\\n  \"date\": \"June 8, 1949\"\\n}\\n-----------', 'prompt\\n-----------\\nOn the 31st of October, 2000, a report was written by Tony Blair.\\n-----------\\n\\nresponse\\n-----------\\n{\\n  \"author\": \"Tony Blair\",\\n  \"date\": \"31st of October, 2000\"\\n}\\n-----------', 'prompt\\n-----------\\nThe novel \"Pride and Prejudice\" was written by Jane Austen and published on January 28, 1813.\\n-----------\\n\\nresponse\\n-----------\\n{\\n  \"author\": \"Jane Austen\",\\n  \"date\": \"January 28, 1813\"\\n}\\n-----------', 'prompt\\n-----------\\nAm 25. Dezember 1995 veröffentlichte Stephen King dieses Buch.\\n-----------\\n\\nresponse\\n-----------\\n{\\n  \"author\": \"Stephen King\",\\n  \"date\": \"25. Dezember 1995\"\\n}\\n-----------', 'prompt\\n-----------\\nOn the 1st of January, 2001, a research paper was published by Jane Doe.\\n-----------\\n\\nresponse\\n-----------\\n{\\n  \"author\": \"Jane Doe\",\\n  \"date\": \"1st of January, 2001\"\\n}\\n-----------', 'prompt\\n-----------\\nAm 1. Januar 2000 schrieb Albert Einstein diesen Brief.\\n-----------\\n\\nresponse\\n-----------\\n{\\n  \"author\": \"Albert Einstein\",\\n  \"date\": \"1. Januar 2000\"\\n}\\n-----------', 'prompt\\n-----------\\nAm 15. Februar 1999 veröffentlichte Johann Wolfgang von Goethe dieses Gedicht.\\n-----------\\n\\nresponse\\n-----------\\n{\\n  \"author\": \"Johann Wolfgang von Goethe\",\\n  \"date\": \"15. Februar 1999\"\\n}\\n-----------', 'prompt\\n-----------\\nOn the 7th of July, 2007, a blog post was published by Mark Zuckerberg.\\n-----------\\n\\nresponse\\n-----------\\n{\\n  \"author\": \"Mark Zuckerberg\",\\n  \"date\": \"7th of July, 2007\"\\n}\\n-----------', 'prompt\\n-----------\\nOn the 20th of May, 2020, a scientific paper was published by Stephen Hawking.\\n-----------\\n\\nresponse\\n-----------\\n{\\n  \"author\": \"Stephen Hawking\",\\n  \"date\": \"20th of May, 2020\"\\n}\\n-----------', 'prompt\\n-----------\\nThe book \"To Kill a Mockingbird\" was written by Harper Lee and published on July 11, 1960.\\n-----------\\n\\nresponse\\n-----------\\n{\\n  \"author\": \"Harper Lee\",\\n  \"date\": \"July 11, 1960\"\\n}\\n-----------', 'prompt\\n-----------\\nThis is a letter from John Smith on 12th March 2018.\\n-----------\\n\\nresponse\\n-----------\\n{\\n  \"author\": \"John Smith\",\\n  \"date\": \"12th March 2018\"\\n}\\n-----------', 'prompt\\n-----------\\nAm 20. April 2001 schrieb Angela Merkel einen Brief.\\n-----------\\n\\nresponse\\n-----------\\n{\\n  \"author\": \"Angela Merkel\",\\n  \"date\": \"20. April 2001\"\\n}\\n-----------', 'prompt\\n-----------\\nThis is an article written by Charles Dickens on 7th February 1812.\\n-----------\\n\\nresponse\\n-----------\\n{\\n  \"author\": \"Charles Dickens\",\\n  \"date\": \"7th February 1812\"\\n}\\n-----------', 'prompt\\n-----------\\nAm 9. November 1989 gab Helmut Kohl eine Rede.\\n-----------\\n\\nresponse\\n-----------\\n{\\n  \"author\": \"Helmut Kohl\",\\n  \"date\": \"9. November 1989\"\\n}\\n-----------', 'prompt\\n-----------\\nA poem was written by Emily Dickinson on 10th December 1830.\\n-----------\\n\\nresponse\\n-----------\\n{\\n  \"author\": \"Emily Dickinson\",\\n  \"date\": \"10th December 1830\"\\n}\\n-----------', 'prompt\\n-----------\\nAm 1. Mai 1960 veröffentlichte Johann Wolfgang von Goethe ein Gedicht.\\n-----------\\n\\nresponse\\n-----------\\n{\\n  \"author\": \"Johann Wolfgang von Goethe\",\\n  \"date\": \"1. Mai 1960\"\\n}\\n-----------', 'prompt\\n-----------\\nThis is a report by Albert Einstein on 14th March 1879.\\n-----------\\n\\nresponse\\n-----------\\n{\\n  \"author\": \"Albert Einstein\",\\n  \"date\": \"14th March 1879\"\\n}\\n-----------', 'prompt\\n-----------\\nAm 12. Februar 1809 schrieb Charles Darwin einen Artikel.\\n-----------\\n\\nresponse\\n-----------\\n{\\n  \"author\": \"Charles Darwin\",\\n  \"date\": \"12. Februar 1809\"\\n}\\n-----------', 'prompt\\n-----------\\nThe text \"The Catcher in the Rye\" was written by J.D. Salinger in 1951.\\n-----------\\n\\nresponse\\n-----------\\n{\\n  \"author\": \"J.D. Salinger\",\\n  \"date\": \"1951\"\\n}\\n-----------', 'prompt\\n-----------\\nDas Buch \"Die Verwandlung\" wurde 1915 von Franz Kafka geschrieben.\\n-----------\\n\\nresponse\\n-----------\\n{\\n  \"author\": \"Franz Kafka\",\\n  \"date\": \"1915\"\\n}\\n-----------', 'prompt\\n-----------\\nIn 1984, George Orwell published his famous novel \"1984\".\\n-----------\\n\\nresponse\\n-----------\\n{\\n  \"author\": \"George Orwell\",\\n  \"date\": \"1984\"\\n}\\n-----------', 'prompt\\n-----------\\n\"Faust\", ein Drama von Johann Wolfgang von Goethe, wurde 1808 veröffentlicht.\\n-----------\\n\\nresponse\\n-----------\\n{\\n  \"author\": \"Johann Wolfgang von Goethe\",\\n  \"date\": \"1808\"\\n}\\n-----------', 'prompt\\n-----------\\nThe book \"Pride and Prejudice\" was written by Jane Austen and published in 1813.\\n-----------\\n\\nresponse\\n-----------\\n{\\n  \"author\": \"Jane Austen\",\\n  \"date\": \"1813\"\\n}\\n-----------', 'prompt\\n-----------\\nIm Jahr 1925 wurde der Roman \"Der große Gatsby\" von F. Scott Fitzgerald veröffentlicht.\\n-----------\\n\\nresponse\\n-----------\\n{\\n  \"author\": \"F. Scott Fitzgerald\",\\n  \"date\": \"1925\"\\n}\\n-----------', 'prompt\\n-----------\\n\"The Old Man and the Sea\", a novel by Ernest Hemingway, was published in 1952.\\n-----------\\n\\nresponse\\n-----------\\n{\\n  \"author\": \"Ernest Hemingway\",\\n  \"date\": \"1952\"\\n}\\n-----------', 'prompt\\n-----------\\n\"Der Prozess\", ein Roman von Franz Kafka, wurde posthum im Jahr 1925 veröffentlicht.\\n-----------\\n\\nresponse\\n-----------\\n{\\n  \"author\": \"Franz Kafka\",\\n  \"date\": \"1925\"\\n}\\n-----------', 'prompt\\n-----------\\n\"Lord of the Flies\", a novel by William Golding, was first published in 1954.\\n-----------\\n\\nresponse\\n-----------\\n{\\n  \"author\": \"William Golding\",\\n  \"date\": \"1954\"\\n}\\n-----------', 'prompt\\n-----------\\n\"Der Zauberberg\", ein Roman von Thomas Mann, wurde 1924 veröffentlicht.\\n-----------\\n\\nresponse\\n-----------\\n{\\n  \"author\": \"Thomas Mann\",\\n  \"date\": \"1924\"\\n}\\n-----------', 'prompt\\n-----------\\nIn 1937, J.R.R. Tolkien published his famous novel \"The Hobbit\".\\n-----------\\n\\nresponse\\n-----------\\n{\\n  \"author\": \"J.R.R. Tolkien\",\\n  \"date\": \"1937\"\\n}\\n-----------', 'prompt\\n-----------\\nDas Buch \"Moby Dick\" wurde 1851 von Herman Melville geschrieben.\\n-----------\\n\\nresponse\\n-----------\\n{\\n  \"author\": \"Herman Melville\",\\n  \"date\": \"1851\"\\n}\\n-----------', 'prompt\\n-----------\\nThe book \"To Kill a Mockingbird\" was written by Harper Lee and published in 1960.\\n-----------\\n\\nresponse\\n-----------\\n{\\n  \"author\": \"Harper Lee\",\\n  \"date\": \"1960\"\\n}\\n-----------', 'prompt\\n-----------\\nThe book \"1984\" was written by George Orwell and published in 1949.\\n-----------\\n\\nresponse\\n-----------\\n{\\n  \"author\": \"George Orwell\",\\n  \"date\": \"1949\"\\n}\\n-----------', 'prompt\\n-----------\\nIm Jahr 1871 veröffentlichte Lewis Carroll sein bekanntes Buch \"Alice im Wunderland\".\\n-----------\\n\\nresponse\\n-----------\\n{\\n  \"author\": \"Lewis Carroll\",\\n  \"date\": \"1871\"\\n}\\n-----------', 'prompt\\n-----------\\nIn 1851, Herman Melville published his famous novel \"Moby Dick\".\\n-----------\\n\\nresponse\\n-----------\\n{\\n  \"author\": \"Herman Melville\",\\n  \"date\": \"1851\"\\n}\\n-----------', 'prompt\\n-----------\\nIn 1818, Mary Shelley published her famous novel \"Frankenstein\".\\n-----------\\n\\nresponse\\n-----------\\n{\\n  \"author\": \"Mary Shelley\",\\n  \"date\": \"1818\"\\n}\\n-----------', 'prompt\\n-----------\\nThe book \"1984\" was written by George Orwell and published in 1949.\\n-----------\\n\\nresponse\\n-----------\\n{\\n  \"author\": \"George Orwell\",\\n  \"date\": \"1949\"\\n}\\n-----------', 'prompt\\n-----------\\n\"Die Verwandlung\" ist eine Novelle von Franz Kafka, die erstmals 1915 veröffentlicht wurde.\\n-----------\\n\\nresponse\\n-----------\\n{\\n  \"author\": \"Franz Kafka\",\\n  \"date\": \"1915\"\\n}\\n-----------', 'prompt\\n-----------\\nIm Jahr 1925 veröffentlichte F. Scott Fitzgerald seinen bekannten Roman \"Der große Gatsby\".\\n-----------\\n\\nresponse\\n-----------\\n{\\n  \"author\": \"F. Scott Fitzgerald\",\\n  \"date\": \"1925\"\\n}\\n-----------', 'prompt\\n-----------\\n\"Die Verwandlung\", eine Novelle von Franz Kafka, wurde 1915 veröffentlicht.\\n-----------\\n\\nresponse\\n-----------\\n{\\n  \"author\": \"Franz Kafka\",\\n  \"date\": \"1915\"\\n}\\n-----------', 'prompt\\n-----------\\nIn 1851, Herman Melville published his famous novel \"Moby Dick\".\\n-----------\\n\\nresponse\\n-----------\\n{\\n  \"author\": \"Herman Melville\",\\n  \"date\": \"1851\"\\n}\\n-----------', 'prompt\\n-----------\\n\"Die Blechtrommel\", ein Roman von Günter Grass, wurde 1959 veröffentlicht.\\n-----------\\n\\nresponse\\n-----------\\n{\\n  \"author\": \"Günter Grass\",\\n  \"date\": \"1959\"\\n}\\n-----------', 'prompt\\n-----------\\n\"Die Verwandlung\", eine Novelle von Franz Kafka, wurde 1915 veröffentlicht.\\n-----------\\n\\nresponse\\n-----------\\n{\\n  \"author\": \"Franz Kafka\",\\n  \"date\": \"1915\"\\n}\\n-----------', 'prompt\\n-----------\\n\"Der Prozess\", ein Roman von Franz Kafka, wurde 1925 posthum veröffentlicht.\\n-----------\\n\\nresponse\\n-----------\\n{\\n  \"author\": \"Franz Kafka\",\\n  \"date\": \"1925\"\\n}\\n-----------', 'prompt\\n-----------\\nIn 1943, Antoine de Saint-Exupéry published his famous novella \"The Little Prince\".\\n-----------\\n\\nresponse\\n-----------\\n{\\n  \"author\": \"Antoine de Saint-Exupéry\",\\n  \"date\": \"1943\"\\n}\\n-----------', 'prompt\\n-----------\\nDas Buch \"Faust\" wurde von Johann Wolfgang von Goethe geschrieben und 1808 veröffentlicht.\\n-----------\\n\\nresponse\\n-----------\\n{\\n  \"author\": \"Johann Wolfgang von Goethe\",\\n  \"date\": \"1808\"\\n}\\n-----------', 'prompt\\n-----------\\nThe book \"Pride and Prejudice\" was written by Jane Austen and published in 1813.\\n-----------\\n\\nresponse\\n-----------\\n{\\n  \"author\": \"Jane Austen\",\\n  \"date\": \"1813\"\\n}\\n-----------', 'prompt\\n-----------\\n\"1984\", ein dystopischer Roman von George Orwell, wurde 1949 veröffentlicht.\\n-----------\\n\\nresponse\\n-----------\\n{\\n  \"author\": \"George Orwell\",\\n  \"date\": \"1949\"\\n}\\n-----------', 'prompt\\n-----------\\nIm Jahr 1843 veröffentlichte Charles Dickens sein berühmtes Buch \"A Christmas Carol\".\\n-----------\\n\\nresponse\\n-----------\\n{\\n  \"author\": \"Charles Dickens\",\\n  \"date\": \"1843\"\\n}\\n-----------', 'prompt\\n-----------\\n\"1984\", a dystopian novel by George Orwell, was first published in 1949.\\n-----------\\n\\nresponse\\n-----------\\n{\\n  \"author\": \"George Orwell\",\\n  \"date\": \"1949\"\\n}\\n-----------']\n"
   ]
  },
  {
   "cell_type": "code",
   "execution_count": 3,
   "id": "873a0f07-5937-4d45-bf7b-8426a98771a4",
   "metadata": {},
   "outputs": [
    {
     "name": "stdout",
     "output_type": "stream",
     "text": [
      "There are 102 successfully-generated examples. Here are the first few:\n"
     ]
    },
    {
     "data": {
      "text/html": [
       "<div>\n",
       "<style scoped>\n",
       "    .dataframe tbody tr th:only-of-type {\n",
       "        vertical-align: middle;\n",
       "    }\n",
       "\n",
       "    .dataframe tbody tr th {\n",
       "        vertical-align: top;\n",
       "    }\n",
       "\n",
       "    .dataframe thead th {\n",
       "        text-align: right;\n",
       "    }\n",
       "</style>\n",
       "<table border=\"1\" class=\"dataframe\">\n",
       "  <thead>\n",
       "    <tr style=\"text-align: right;\">\n",
       "      <th></th>\n",
       "      <th>prompt</th>\n",
       "      <th>response</th>\n",
       "    </tr>\n",
       "  </thead>\n",
       "  <tbody>\n",
       "    <tr>\n",
       "      <th>0</th>\n",
       "      <td>This book was written by George Orwell in 1949.</td>\n",
       "      <td>{\\n  \"author\": \"George Orwell\",\\n  \"date\": \"19...</td>\n",
       "    </tr>\n",
       "    <tr>\n",
       "      <th>1</th>\n",
       "      <td>Im Jahr 1818 veröffentlichte Mary Shelley ihre...</td>\n",
       "      <td>{\\n  \"author\": \"Mary Shelley\",\\n  \"date\": \"181...</td>\n",
       "    </tr>\n",
       "    <tr>\n",
       "      <th>2</th>\n",
       "      <td>In a letter dated May 10, 1933, Albert Einstei...</td>\n",
       "      <td>{\\n  \"author\": \"Albert Einstein\",\\n  \"date\": \"...</td>\n",
       "    </tr>\n",
       "    <tr>\n",
       "      <th>3</th>\n",
       "      <td>Im Jahr 1920 veröffentlichte Franz Kafka \"Das ...</td>\n",
       "      <td>{\\n  \"author\": \"Franz Kafka\",\\n  \"date\": \"1920...</td>\n",
       "    </tr>\n",
       "    <tr>\n",
       "      <th>4</th>\n",
       "      <td>The famous novel \"To Kill a Mockingbird\" was p...</td>\n",
       "      <td>{\\n  \"author\": \"Harper Lee\",\\n  \"date\": \"July ...</td>\n",
       "    </tr>\n",
       "  </tbody>\n",
       "</table>\n",
       "</div>"
      ],
      "text/plain": [
       "                                              prompt  \\\n",
       "0    This book was written by George Orwell in 1949.   \n",
       "1  Im Jahr 1818 veröffentlichte Mary Shelley ihre...   \n",
       "2  In a letter dated May 10, 1933, Albert Einstei...   \n",
       "3  Im Jahr 1920 veröffentlichte Franz Kafka \"Das ...   \n",
       "4  The famous novel \"To Kill a Mockingbird\" was p...   \n",
       "\n",
       "                                            response  \n",
       "0  {\\n  \"author\": \"George Orwell\",\\n  \"date\": \"19...  \n",
       "1  {\\n  \"author\": \"Mary Shelley\",\\n  \"date\": \"181...  \n",
       "2  {\\n  \"author\": \"Albert Einstein\",\\n  \"date\": \"...  \n",
       "3  {\\n  \"author\": \"Franz Kafka\",\\n  \"date\": \"1920...  \n",
       "4  {\\n  \"author\": \"Harper Lee\",\\n  \"date\": \"July ...  "
      ]
     },
     "execution_count": 3,
     "metadata": {},
     "output_type": "execute_result"
    }
   ],
   "source": [
    "import pandas as pd\n",
    "\n",
    "# Initialize lists to store prompts and responses\n",
    "prompts = []\n",
    "responses = []\n",
    "\n",
    "# Parse out prompts and responses from examples\n",
    "for example in prev_examples:\n",
    "  try:\n",
    "    split_example = example.split('-----------')\n",
    "    prompts.append(split_example[1].strip())\n",
    "    responses.append(split_example[3].strip())\n",
    "  except:\n",
    "    pass\n",
    "\n",
    "# Create a DataFrame\n",
    "df = pd.DataFrame({\n",
    "    'prompt': prompts,\n",
    "    'response': responses\n",
    "})\n",
    "\n",
    "# Remove duplicates\n",
    "df = df.drop_duplicates()\n",
    "\n",
    "print('There are ' + str(len(df)) + ' successfully-generated examples. Here are the first few:')\n",
    "\n",
    "df.head()"
   ]
  },
  {
   "cell_type": "code",
   "execution_count": 4,
   "id": "5c91a3a9-8fa8-4d0f-b26c-101923a4407e",
   "metadata": {},
   "outputs": [],
   "source": [
    "# Split the data into train and test sets, with 90% in the train set\n",
    "train_df = df.sample(frac=0.9, random_state=42)\n",
    "test_df = df.drop(train_df.index)\n",
    "\n",
    "# Save the dataframes to .jsonl files\n",
    "train_df.to_json('train.jsonl', orient='records', lines=True)\n",
    "test_df.to_json('test.jsonl', orient='records', lines=True)"
   ]
  },
  {
   "cell_type": "code",
   "execution_count": 5,
   "id": "43200113-a6de-40c0-8189-f0e6b32abab0",
   "metadata": {},
   "outputs": [],
   "source": [
    "def formatting_func(example):\n",
    "    text = f\"### Question: {example['prompt']}\\n ### Answer: {example['response']}\"\n",
    "    return text"
   ]
  },
  {
   "cell_type": "code",
   "execution_count": 6,
   "id": "d4082fa6-95c7-447b-a910-a0e4feafb425",
   "metadata": {},
   "outputs": [],
   "source": [
    "import torch\n",
    "from transformers import AutoTokenizer, AutoModelForCausalLM, BitsAndBytesConfig\n",
    "\n",
    "base_model_id = \"mistralai/Mistral-7B-v0.1\"\n",
    "\n",
    "tokenizer = AutoTokenizer.from_pretrained(\n",
    "    base_model_id,\n",
    "    padding_side=\"left\",\n",
    "    add_eos_token=True,\n",
    "    add_bos_token=True,\n",
    ")\n",
    "tokenizer.pad_token = tokenizer.eos_token\n",
    "\n",
    "def generate_and_tokenize_prompt(prompt):\n",
    "    return tokenizer(formatting_func(prompt))"
   ]
  },
  {
   "cell_type": "code",
   "execution_count": 7,
   "id": "43a47ee3-1aa4-4db3-81ad-263dcf921ca6",
   "metadata": {},
   "outputs": [
    {
     "data": {
      "application/vnd.jupyter.widget-view+json": {
       "model_id": "be62b4ddf5444367a3a4687f5245314e",
       "version_major": 2,
       "version_minor": 0
      },
      "text/plain": [
       "Downloading data files:   0%|          | 0/1 [00:00<?, ?it/s]"
      ]
     },
     "metadata": {},
     "output_type": "display_data"
    },
    {
     "data": {
      "application/vnd.jupyter.widget-view+json": {
       "model_id": "bd6ad2bd3d7f4c9686a8a817e777b1fa",
       "version_major": 2,
       "version_minor": 0
      },
      "text/plain": [
       "Extracting data files:   0%|          | 0/1 [00:00<?, ?it/s]"
      ]
     },
     "metadata": {},
     "output_type": "display_data"
    },
    {
     "data": {
      "application/vnd.jupyter.widget-view+json": {
       "model_id": "168df5f18e7d4b90ba1eecac7306e789",
       "version_major": 2,
       "version_minor": 0
      },
      "text/plain": [
       "Generating train split: 0 examples [00:00, ? examples/s]"
      ]
     },
     "metadata": {},
     "output_type": "display_data"
    },
    {
     "data": {
      "application/vnd.jupyter.widget-view+json": {
       "model_id": "5ee185be1dd74812a71be9c703c7fe21",
       "version_major": 2,
       "version_minor": 0
      },
      "text/plain": [
       "Downloading data files:   0%|          | 0/1 [00:00<?, ?it/s]"
      ]
     },
     "metadata": {},
     "output_type": "display_data"
    },
    {
     "data": {
      "application/vnd.jupyter.widget-view+json": {
       "model_id": "969c974b02804d73a13d3aa8d944ecb4",
       "version_major": 2,
       "version_minor": 0
      },
      "text/plain": [
       "Extracting data files:   0%|          | 0/1 [00:00<?, ?it/s]"
      ]
     },
     "metadata": {},
     "output_type": "display_data"
    },
    {
     "data": {
      "application/vnd.jupyter.widget-view+json": {
       "model_id": "933c4d2e0f7541699222f77bec23689a",
       "version_major": 2,
       "version_minor": 0
      },
      "text/plain": [
       "Generating train split: 0 examples [00:00, ? examples/s]"
      ]
     },
     "metadata": {},
     "output_type": "display_data"
    },
    {
     "data": {
      "application/vnd.jupyter.widget-view+json": {
       "model_id": "6dc6123353d84e17b2ba1a63bc9139e7",
       "version_major": 2,
       "version_minor": 0
      },
      "text/plain": [
       "Map:   0%|          | 0/92 [00:00<?, ? examples/s]"
      ]
     },
     "metadata": {},
     "output_type": "display_data"
    },
    {
     "data": {
      "application/vnd.jupyter.widget-view+json": {
       "model_id": "43c809a29fd54881bdd1dc0b35864cbb",
       "version_major": 2,
       "version_minor": 0
      },
      "text/plain": [
       "Map:   0%|          | 0/10 [00:00<?, ? examples/s]"
      ]
     },
     "metadata": {},
     "output_type": "display_data"
    }
   ],
   "source": [
    "import json\n",
    "from datasets import load_dataset\n",
    "\n",
    "train = load_dataset('json', data_files='train.jsonl', split=\"train\")\n",
    "test = load_dataset('json', data_files='test.jsonl', split=\"train\")\n",
    "\n",
    "tokenized_train_dataset = train.map(generate_and_tokenize_prompt)\n",
    "tokenized_test_dataset = test.map(generate_and_tokenize_prompt)"
   ]
  },
  {
   "cell_type": "code",
   "execution_count": 9,
   "id": "34e4f246-5ff4-47ff-84d3-4c103f031e16",
   "metadata": {},
   "outputs": [],
   "source": [
    "import json\n",
    "from datasets import load_dataset\n",
    "\n",
    "train = load_dataset('json', data_files='train.jsonl', split=\"train\")\n",
    "test = load_dataset('json', data_files='test.jsonl', split=\"train\")\n",
    "\n",
    "tokenized_train_dataset = train.map(generate_and_tokenize_prompt)\n",
    "tokenized_test_dataset = test.map(generate_and_tokenize_prompt)"
   ]
  },
  {
   "cell_type": "code",
   "execution_count": 14,
   "id": "bfd92032-8dac-4704-86c1-c85a0707a922",
   "metadata": {},
   "outputs": [
    {
     "name": "stdout",
     "output_type": "stream",
     "text": [
      "102\n"
     ]
    },
    {
     "data": {
      "image/png": "[encoded data removed]",
      "text/plain": [
       "<Figure size 1000x600 with 1 Axes>"
      ]
     },
     "metadata": {},
     "output_type": "display_data"
    }
   ],
   "source": [
    "import matplotlib.pyplot as plt\n",
    "\n",
    "def plot_data_lengths(tokenize_train_dataset, tokenized_test_dataset):\n",
    "    lengths = [len(x['input_ids']) for x in tokenized_train_dataset]\n",
    "    lengths += [len(x['input_ids']) for x in tokenized_test_dataset]\n",
    "    print(len(lengths))\n",
    "\n",
    "    # Plotting the histogram\n",
    "    plt.figure(figsize=(10, 6))\n",
    "    plt.hist(lengths, bins=20, alpha=0.7, color='blue')\n",
    "    plt.xlabel('Length of input_ids')\n",
    "    plt.ylabel('Frequency')\n",
    "    plt.title('Distribution of Lengths of input_ids')\n",
    "    plt.show()\n",
    "\n",
    "plot_data_lengths(tokenized_train_dataset, tokenized_test_dataset)"
   ]
  },
  {
   "cell_type": "code",
   "execution_count": 15,
   "id": "8b9635c7-9f9e-4769-a528-280e4db8db1d",
   "metadata": {},
   "outputs": [],
   "source": [
    "max_length = 80\n",
    "\n",
    "def generate_and_tokenize_prompt2(prompt):\n",
    "    result = tokenizer(\n",
    "        formatting_func(prompt),\n",
    "        truncation=True,\n",
    "        max_length=max_length,\n",
    "        padding=\"max_length\",\n",
    "    )\n",
    "    result[\"labels\"] = result[\"input_ids\"].copy()\n",
    "    return result"
   ]
  },
  {
   "cell_type": "code",
   "execution_count": 17,
   "id": "0b081ad5-7047-4565-8aa5-f0e3793e729d",
   "metadata": {},
   "outputs": [
    {
     "data": {
      "application/vnd.jupyter.widget-view+json": {
       "model_id": "eaf82b00bff94c4a94dd3e3a58ba8835",
       "version_major": 2,
       "version_minor": 0
      },
      "text/plain": [
       "Map:   0%|          | 0/92 [00:00<?, ? examples/s]"
      ]
     },
     "metadata": {},
     "output_type": "display_data"
    }
   ],
   "source": [
    "tokenized_train_dataset = train.map(generate_and_tokenize_prompt2)\n",
    "tokenized_test_dataset = test.map(generate_and_tokenize_prompt2)"
   ]
  },
  {
   "cell_type": "code",
   "execution_count": 18,
   "id": "93aa28b9-b8f7-43b8-b4ac-fc8be2c369f8",
   "metadata": {},
   "outputs": [
    {
     "name": "stdout",
     "output_type": "stream",
     "text": [
      "[2, 2, 2, 2, 2, 2, 2, 2, 2, 2, 2, 2, 2, 2, 2, 2, 2, 2, 2, 2, 2, 2, 2, 2, 1, 774, 22478, 28747, 851, 349, 264, 5498, 477, 2215, 6717, 356, 28705, 28740, 28750, 362, 4117, 28705, 28750, 28734, 28740, 28783, 28723, 13, 774, 26307, 28747, 371, 13, 28705, 345, 6239, 1264, 345, 14964, 6717, 548, 13, 28705, 345, 1408, 1264, 345, 28740, 28750, 362, 4117, 28705, 28750, 28734, 28740, 28783, 28739, 13, 28752, 2]\n"
     ]
    }
   ],
   "source": [
    "print(tokenized_train_dataset[1]['input_ids'])\n"
   ]
  },
  {
   "cell_type": "code",
   "execution_count": 19,
   "id": "6d4f4603-511d-43f1-a3ac-0b1b1f080ced",
   "metadata": {},
   "outputs": [
    {
     "name": "stdout",
     "output_type": "stream",
     "text": [
      "102\n"
     ]
    },
    {
     "data": {
      "image/png": "[encoded data removed]",
      "text/plain": [
       "<Figure size 1000x600 with 1 Axes>"
      ]
     },
     "metadata": {},
     "output_type": "display_data"
    }
   ],
   "source": [
    "plot_data_lengths(tokenized_train_dataset, tokenized_val_dataset)\n"
   ]
  },
  {
   "cell_type": "code",
   "execution_count": null,
   "id": "922920e1-6105-45aa-abd5-75ab445ff777",
   "metadata": {},
   "outputs": [],
   "source": []
  }
 ],
 "metadata": {
  "kernelspec": {
   "display_name": "Python 3 (ipykernel)",
   "language": "python",
   "name": "python3"
  },
  "language_info": {
   "codemirror_mode": {
    "name": "ipython",
    "version": 3
   },
   "file_extension": ".py",
   "mimetype": "text/x-python",
   "name": "python",
   "nbconvert_exporter": "python",
   "pygments_lexer": "ipython3",
   "version": "3.10.12"
  }
 },
 "nbformat": 4,
 "nbformat_minor": 5
}
