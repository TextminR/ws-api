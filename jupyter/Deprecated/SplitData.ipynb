{
 "cells": [
  {
   "cell_type": "code",
   "execution_count": 3,
   "id": "b79778a3-6357-45ef-9b2d-45934a8d395a",
   "metadata": {},
   "outputs": [],
   "source": [
    "import json\n",
    "import random\n",
    "\n",
    "def split_data(input_file, train_file, val_file, train_ratio=0.8):\n",
    "    # Read the data from the input file\n",
    "    with open(input_file, 'r') as file:\n",
    "        data = [json.loads(line) for line in file]\n",
    "\n",
    "    # Shuffle the data randomly\n",
    "    random.shuffle(data)\n",
    "\n",
    "    # Calculate the number of training samples\n",
    "    train_size = int(len(data) * train_ratio)\n",
    "\n",
    "    # Split the data\n",
    "    train_data = data[:train_size]\n",
    "    val_data = data[train_size:]\n",
    "\n",
    "    # Write the training data\n",
    "    with open(train_file, 'w') as file:\n",
    "        for entry in train_data:\n",
    "            file.write(json.dumps(entry) + '\\n')\n",
    "\n",
    "    # Write the validation data\n",
    "    with open(val_file, 'w') as file:\n",
    "        for entry in val_data:\n",
    "            file.write(json.dumps(entry) + '\\n')\n",
    "\n",
    "# File paths\n",
    "input_file_path = 'dataset.jsonl'  # Replace with your file path\n",
    "train_file_path = 'train.jsonl'\n",
    "val_file_path = 'val.jsonl'\n",
    "\n",
    "# Call the function to split the data\n",
    "split_data(input_file_path, train_file_path, val_file_path)\n"
   ]
  },
  {
   "cell_type": "code",
   "execution_count": null,
   "id": "ba791cf5-a473-40a0-9665-c7951273a0c8",
   "metadata": {},
   "outputs": [],
   "source": []
  }
 ],
 "metadata": {
  "kernelspec": {
   "display_name": "Python 3 (ipykernel)",
   "language": "python",
   "name": "python3"
  },
  "language_info": {
   "codemirror_mode": {
    "name": "ipython",
    "version": 3
   },
   "file_extension": ".py",
   "mimetype": "text/x-python",
   "name": "python",
   "nbconvert_exporter": "python",
   "pygments_lexer": "ipython3",
   "version": "3.10.12"
  }
 },
 "nbformat": 4,
 "nbformat_minor": 5
}
