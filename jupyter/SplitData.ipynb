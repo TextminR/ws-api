{
 "cells": [
  {
   "cell_type": "code",
   "execution_count": 1,
   "id": "b79778a3-6357-45ef-9b2d-45934a8d395a",
   "metadata": {},
   "outputs": [
    {
     "ename": "FileNotFoundError",
     "evalue": "[Errno 2] No such file or directory: 'data/newtrainv4'",
     "output_type": "error",
     "traceback": [
      "\u001b[0;31m---------------------------------------------------------------------------\u001b[0m",
      "\u001b[0;31mFileNotFoundError\u001b[0m                         Traceback (most recent call last)",
      "\u001b[1;32m/home/ben/ws-api/jupyter/SplitData.ipynb Cell 1\u001b[0m line \u001b[0;36m3\n\u001b[1;32m     <a href='vscode-notebook-cell://wsl%2Bubuntu/home/ben/ws-api/jupyter/SplitData.ipynb#W0sdnNjb2RlLXJlbW90ZQ%3D%3D?line=31'>32</a>\u001b[0m val_file_path \u001b[39m=\u001b[39m \u001b[39m'\u001b[39m\u001b[39mdata/newtrainv4_val\u001b[39m\u001b[39m'\u001b[39m\n\u001b[1;32m     <a href='vscode-notebook-cell://wsl%2Bubuntu/home/ben/ws-api/jupyter/SplitData.ipynb#W0sdnNjb2RlLXJlbW90ZQ%3D%3D?line=33'>34</a>\u001b[0m \u001b[39m# Call the function to split the data\u001b[39;00m\n\u001b[0;32m---> <a href='vscode-notebook-cell://wsl%2Bubuntu/home/ben/ws-api/jupyter/SplitData.ipynb#W0sdnNjb2RlLXJlbW90ZQ%3D%3D?line=34'>35</a>\u001b[0m split_data(input_file_path, train_file_path, val_file_path)\n",
      "\u001b[1;32m/home/ben/ws-api/jupyter/SplitData.ipynb Cell 1\u001b[0m line \u001b[0;36m6\n\u001b[1;32m      <a href='vscode-notebook-cell://wsl%2Bubuntu/home/ben/ws-api/jupyter/SplitData.ipynb#W0sdnNjb2RlLXJlbW90ZQ%3D%3D?line=3'>4</a>\u001b[0m \u001b[39mdef\u001b[39;00m \u001b[39msplit_data\u001b[39m(input_file, train_file, val_file, train_ratio\u001b[39m=\u001b[39m\u001b[39m0.8\u001b[39m):\n\u001b[1;32m      <a href='vscode-notebook-cell://wsl%2Bubuntu/home/ben/ws-api/jupyter/SplitData.ipynb#W0sdnNjb2RlLXJlbW90ZQ%3D%3D?line=4'>5</a>\u001b[0m     \u001b[39m# Read the data from the input file\u001b[39;00m\n\u001b[0;32m----> <a href='vscode-notebook-cell://wsl%2Bubuntu/home/ben/ws-api/jupyter/SplitData.ipynb#W0sdnNjb2RlLXJlbW90ZQ%3D%3D?line=5'>6</a>\u001b[0m     \u001b[39mwith\u001b[39;00m \u001b[39mopen\u001b[39;49m(input_file, \u001b[39m'\u001b[39;49m\u001b[39mr\u001b[39;49m\u001b[39m'\u001b[39;49m) \u001b[39mas\u001b[39;00m file:\n\u001b[1;32m      <a href='vscode-notebook-cell://wsl%2Bubuntu/home/ben/ws-api/jupyter/SplitData.ipynb#W0sdnNjb2RlLXJlbW90ZQ%3D%3D?line=6'>7</a>\u001b[0m         data \u001b[39m=\u001b[39m [json\u001b[39m.\u001b[39mloads(line) \u001b[39mfor\u001b[39;00m line \u001b[39min\u001b[39;00m file]\n\u001b[1;32m      <a href='vscode-notebook-cell://wsl%2Bubuntu/home/ben/ws-api/jupyter/SplitData.ipynb#W0sdnNjb2RlLXJlbW90ZQ%3D%3D?line=8'>9</a>\u001b[0m     \u001b[39m# Shuffle the data randomly\u001b[39;00m\n",
      "File \u001b[0;32m~/.local/lib/python3.10/site-packages/IPython/core/interactiveshell.py:308\u001b[0m, in \u001b[0;36m_modified_open\u001b[0;34m(file, *args, **kwargs)\u001b[0m\n\u001b[1;32m    301\u001b[0m \u001b[39mif\u001b[39;00m file \u001b[39min\u001b[39;00m {\u001b[39m0\u001b[39m, \u001b[39m1\u001b[39m, \u001b[39m2\u001b[39m}:\n\u001b[1;32m    302\u001b[0m     \u001b[39mraise\u001b[39;00m \u001b[39mValueError\u001b[39;00m(\n\u001b[1;32m    303\u001b[0m         \u001b[39mf\u001b[39m\u001b[39m\"\u001b[39m\u001b[39mIPython won\u001b[39m\u001b[39m'\u001b[39m\u001b[39mt let you open fd=\u001b[39m\u001b[39m{\u001b[39;00mfile\u001b[39m}\u001b[39;00m\u001b[39m by default \u001b[39m\u001b[39m\"\u001b[39m\n\u001b[1;32m    304\u001b[0m         \u001b[39m\"\u001b[39m\u001b[39mas it is likely to crash IPython. If you know what you are doing, \u001b[39m\u001b[39m\"\u001b[39m\n\u001b[1;32m    305\u001b[0m         \u001b[39m\"\u001b[39m\u001b[39myou can use builtins\u001b[39m\u001b[39m'\u001b[39m\u001b[39m open.\u001b[39m\u001b[39m\"\u001b[39m\n\u001b[1;32m    306\u001b[0m     )\n\u001b[0;32m--> 308\u001b[0m \u001b[39mreturn\u001b[39;00m io_open(file, \u001b[39m*\u001b[39;49margs, \u001b[39m*\u001b[39;49m\u001b[39m*\u001b[39;49mkwargs)\n",
      "\u001b[0;31mFileNotFoundError\u001b[0m: [Errno 2] No such file or directory: 'data/newtrainv4'"
     ]
    }
   ],
   "source": [
    "import json\n",
    "import random\n",
    "\n",
    "def split_data(input_file, train_file, val_file, train_ratio=0.8):\n",
    "    # Read the data from the input file\n",
    "    with open(input_file, 'r') as file:\n",
    "        data = [json.loads(line) for line in file]\n",
    "\n",
    "    # Shuffle the data randomly\n",
    "    random.shuffle(data)\n",
    "\n",
    "    # Calculate the number of training samples\n",
    "    train_size = int(len(data) * train_ratio)\n",
    "\n",
    "    # Split the data\n",
    "    train_data = data[:train_size]\n",
    "    val_data = data[train_size:]\n",
    "\n",
    "    # Write the training data\n",
    "    with open(train_file, 'w') as file:\n",
    "        for entry in train_data:\n",
    "            file.write(json.dumps(entry) + '\\n')\n",
    "\n",
    "    # Write the validation data\n",
    "    with open(val_file, 'w') as file:\n",
    "        for entry in val_data:\n",
    "            file.write(json.dumps(entry) + '\\n')\n",
    "\n",
    "# File paths\n",
    "input_file_path = 'data/newtrainv4.jsonl'  # Replace with your file path\n",
    "train_file_path = 'data/newtrainv4_train.jsonl'\n",
    "val_file_path = 'data/newtrainv4_val.jsonl'\n",
    "\n",
    "# Call the function to split the data\n",
    "split_data(input_file_path, train_file_path, val_file_path)\n"
   ]
  },
  {
   "cell_type": "code",
   "execution_count": null,
   "id": "ba791cf5-a473-40a0-9665-c7951273a0c8",
   "metadata": {},
   "outputs": [],
   "source": []
  }
 ],
 "metadata": {
  "kernelspec": {
   "display_name": "Python 3 (ipykernel)",
   "language": "python",
   "name": "python3"
  },
  "language_info": {
   "codemirror_mode": {
    "name": "ipython",
    "version": 3
   },
   "file_extension": ".py",
   "mimetype": "text/x-python",
   "name": "python",
   "nbconvert_exporter": "python",
   "pygments_lexer": "ipython3",
   "version": "3.10.12"
  }
 },
 "nbformat": 4,
 "nbformat_minor": 5
}
